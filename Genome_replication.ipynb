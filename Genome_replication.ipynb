{
  "nbformat": 4,
  "nbformat_minor": 0,
  "metadata": {
    "colab": {
      "name": "Genome replication.ipynb",
      "version": "0.3.2",
      "provenance": [],
      "collapsed_sections": []
    },
    "kernelspec": {
      "name": "python3",
      "display_name": "Python 3"
    }
  },
  "cells": [
    {
      "metadata": {
        "id": "G8O5HAlt2wmu",
        "colab_type": "code",
        "outputId": "42a9c2dc-664a-447d-9791-d1a510a2e7cb",
        "colab": {
          "base_uri": "https://localhost:8080/",
          "height": 35
        }
      },
      "cell_type": "code",
      "source": [
        "def pattern_count(text, pattern):\n",
        "  '''Finding pattern counts in text using k-mer sliding window'''\n",
        "  count = 0\n",
        "  for i in range(0,(len(text)-len(pattern) + 1)):\n",
        "    if text[i: i + len(pattern)] == pattern:\n",
        "      count = count + 1\n",
        "  return count\n",
        "  \n",
        "text = \"ACAACTATGCATACTATCGGGAACTATCCTACTAT\"\n",
        "pattern = \"ACTAT\"\n",
        "\n",
        "pattern_count(text, pattern)  "
      ],
      "execution_count": 0,
      "outputs": [
        {
          "output_type": "execute_result",
          "data": {
            "text/plain": [
              "4"
            ]
          },
          "metadata": {
            "tags": []
          },
          "execution_count": 37
        }
      ]
    },
    {
      "metadata": {
        "id": "KFcpgX7p7QR0",
        "colab_type": "code",
        "colab": {}
      },
      "cell_type": "code",
      "source": [
        "def frequent_words(text, k):\n",
        "  '''Finding k-mer with max number of repeats in text '''\n",
        "  freq_patterns = {}\n",
        "  for i in range(0, len(text)-k+1):\n",
        "    pattern =  text[i:i+k]\n",
        "    if pattern in freq_patterns:\n",
        "      freq_patterns[pattern] += 1\n",
        "    else:\n",
        "      freq_patterns[pattern] = 1\n",
        "  maxCount = 0\n",
        "  freqKmers = []\n",
        "  for kmer,count in freq_patterns.items():\n",
        "    if count > maxCount:\n",
        "      maxCount = count\n",
        "      freaqKmers = kmer\n",
        "    elif count == maxCount:\n",
        "      freqKmers += [kmer]\n",
        "  return freqKmers\n",
        "\n",
        "\n",
        "text = \"atcaatgatcaacgtaagcttctaagcatgatcaaggtgctcacacagtttatccacaacctgagtggatgacatcaagataggtcgttgtatctccttcctctcgtactctcatgaccacggaaagatgatcaagagaggatgatttcttggccatatcgcaatgaatacttgtgacttgtgcttccaattgacatcttcagcgccatattgcgctggccaaggtgacggagcgggattacgaaagcatgatcatggctgttgttctgtttatcttgttttgactgagacttgttaggatagacggtttttcatcactgactagccaaagccttactctgcctgacatcgaccgtaaattgataatgaatttacatgcttccgcgacgatttacctcttgatcatcgatccgattgaagatcttcaattgttaattctcttgcctcgactcatagccatgatgagctcttgatcatgtttccttaaccctctattttttacggaagaatgatcaagctgctgctcttgatcatcgtttc\"\n",
        "k = 9\n",
        "\n",
        "%time frequent_words(text, k)\n",
        "  \n",
        "    \n",
        "  "
      ],
      "execution_count": 0,
      "outputs": []
    },
    {
      "metadata": {
        "id": "ty-MvhmD-J9c",
        "colab_type": "code",
        "outputId": "c657ec4f-4831-483f-8e0d-efb8310089f1",
        "colab": {
          "base_uri": "https://localhost:8080/",
          "height": 72
        }
      },
      "cell_type": "code",
      "source": [
        "def frequent_words2(text, k):\n",
        "  freq_patterns = {}\n",
        "  for i in range(0, len(text)-k+1):\n",
        "    pattern =  text[i:i+k]\n",
        "    if pattern in freq_patterns:\n",
        "      freq_patterns[pattern] += 1\n",
        "    else:\n",
        "      freq_patterns[pattern] = 1\n",
        "  max_key = max(freq_patterns, key=lambda k: freq_patterns[k])\n",
        "  max_val = freq_patterns[max_key]\n",
        "  print(\"The max frequent %s-mer is %s with %s count\" % (k, max_key, max_val))\n",
        "  \n",
        "text = \"atcaatgatcaacgtaagcttctaagcatgatcaaggtgctcacacagtttatccacaacctgagtggatgacatcaagataggtcgttgtatctccttcctctcgtactctcatgaccacggaaagatgatcaagagaggatgatttcttggccatatcgcaatgaatacttgtgacttgtgcttccaattgacatcttcagcgccatattgcgctggccaaggtgacggagcgggattacgaaagcatgatcatggctgttgttctgtttatcttgttttgactgagacttgttaggatagacggtttttcatcactgactagccaaagccttactctgcctgacatcgaccgtaaattgataatgaatttacatgcttccgcgacgatttacctcttgatcatcgatccgattgaagatcttcaattgttaattctcttgcctcgactcatagccatgatgagctcttgatcatgtttccttaaccctctattttttacggaagaatgatcaagctgctgctcttgatcatcgtttc\"\n",
        "k = 9\n",
        "\n",
        "%time frequent_words2(text, k)"
      ],
      "execution_count": 0,
      "outputs": [
        {
          "output_type": "stream",
          "text": [
            "The max frequent 9-mer is atgatcaag with 3 count\n",
            "CPU times: user 616 µs, sys: 0 ns, total: 616 µs\n",
            "Wall time: 913 µs\n"
          ],
          "name": "stdout"
        }
      ]
    },
    {
      "metadata": {
        "id": "y5JcYXIBB_Zn",
        "colab_type": "code",
        "outputId": "007429be-7a76-4861-f1b4-50db5daf8746",
        "colab": {
          "base_uri": "https://localhost:8080/",
          "height": 35
        }
      },
      "cell_type": "code",
      "source": [
        "reverse_dict = {\n",
        "    \"A\":\"T\",\n",
        "    \"G\":\"C\",\n",
        "    \"T\":\"A\",\n",
        "    \"C\":\"G\"\n",
        "}\n",
        "\n",
        "\n",
        "def reverse_complement(text):\n",
        "  '''reverse complementing the DNA string'''\n",
        "  rev = \" \"\n",
        "  text = text.upper()\n",
        "  for i in range(0,len(text)):\n",
        "    reverse = reverse_dict[text[i]]\n",
        "    rev = reverse + rev\n",
        "  return rev\n",
        "\n",
        "\n",
        "print(reverse_complement(\"tgctcacacagtttatcca\"))"
      ],
      "execution_count": 0,
      "outputs": [
        {
          "output_type": "stream",
          "text": [
            "TGGATAAACTGTGTGAGCA \n"
          ],
          "name": "stdout"
        }
      ]
    },
    {
      "metadata": {
        "id": "8E2k0j41Vaib",
        "colab_type": "code",
        "outputId": "5e70b0ea-8353-43ed-a7d1-c36ad869a899",
        "colab": {
          "base_uri": "https://localhost:8080/",
          "height": 72
        }
      },
      "cell_type": "code",
      "source": [
        "def pattern_matching(text, pattern):\n",
        "  '''Find all occurences of pattern in a string and return matching \n",
        "  sites, brute force naive algorithm'''\n",
        "  text = text.upper()\n",
        "  count = 0\n",
        "  sites = []\n",
        "  for i in range(0,(len(text)-len(pattern) + 1)):\n",
        "    if text[i: i + len(pattern)] == pattern:\n",
        "      count = count + 1\n",
        "      sites.append(i)\n",
        "  print( f\"The pattern {pattern} appears in {len(sites)} positions: {sites}\")\n",
        "  \n",
        "text = \"atcaatgatcaacgtaagcttctaagcatgatcaaggtgctcacacagtttatccacaacctgagtggatgacatcaagataggtcgttgtatctccttcctctcgtactctcatgaccacggaaagatgatcaagagaggatgatttcttggccatatcgcaatgaatacttgtgacttgtgcttccaattgacatcttcagcgccatattgcgctggccaaggtgacggagcgggattacgaaagcatgatcatggctgttgttctgtttatcttgttttgactgagacttgttaggatagacggtttttcatcactgactagccaaagccttactctgcctgacatcgaccgtaaattgataatgaatttacatgcttccgcgacgatttacctcttgatcatcgatccgattgaagatcttcaattgttaattctcttgcctcgactcatagccatgatgagctcttgatcatgtttccttaaccctctattttttacggaagaatgatcaagctgctgctcttgatcatcgtttc\"\n",
        "pattern = \"ATGATCAAG\"\n",
        "\n",
        "%time pattern_matching(text, pattern)"
      ],
      "execution_count": 0,
      "outputs": [
        {
          "output_type": "stream",
          "text": [
            "The pattern ATGATCAAG appears in 3 positions: [27, 127, 508]\n",
            "CPU times: user 980 µs, sys: 0 ns, total: 980 µs\n",
            "Wall time: 795 µs\n"
          ],
          "name": "stdout"
        }
      ]
    },
    {
      "metadata": {
        "id": "_wjk-4k3Y17l",
        "colab_type": "code",
        "outputId": "4661fc8c-0026-432c-d982-41e48b431707",
        "colab": {
          "base_uri": "https://localhost:8080/",
          "height": 55
        }
      },
      "cell_type": "code",
      "source": [
        "def frequent_words2(text, k, n):\n",
        "  '''Finding k-mers with n or more number of repeats in text'''\n",
        "  text = text.upper()\n",
        "  freq_patterns = {}\n",
        "  keys = []\n",
        "  values = []\n",
        "  for i in range(0, len(text)-k+1):\n",
        "    pattern =  text[i:i+k]\n",
        "    if pattern in freq_patterns:\n",
        "      freq_patterns[pattern] += 1\n",
        "    else:\n",
        "      freq_patterns[pattern] = 1\n",
        "  dict = {k : v for k,v in freq_patterns.items() if v >= n}\n",
        "  print(f\"The max frequent {k}-mers ith {n} or more number of repeats is {dict}\")\n",
        "  \n",
        "text = \"aactctatacctcctttttgtcgaatttgtgtgatttatagagaaaatcttattaactgaaactaaaatggtaggtttggtggtaggttttgtgtacattttgtagtatctgatttttaattacataccgtatattgtattaaattgacgaacaattgcatggaattgaatatatgcaaaacaaacctaccaccaaactctgtattgaccattttaggacaacttcagggtggtaggtttctgaagctctcatcaatagactattttagtctttacaaacaatattaccgttcagattcaagattctacaacgctgttttaatgggcgttgcagaaaacttaccacctaaaatccagtatccaagccgatttcagagaaacctaccacttacctaccacttacctaccacccgggtggtaagttgcagacattattaaaaacctcatcagaagcttgttcaaaaatttcaatactcgaaacctaccacctgcgtcccctattatttactactactaataatagcagtataattgatctga\"\n",
        "k = 9\n",
        "\n",
        "frequent_words2(text, 6, 3)\n"
      ],
      "execution_count": 0,
      "outputs": [
        {
          "output_type": "stream",
          "text": [
            "The max frequent 6-mers ith 3 or more number of repeats is {'TTTTGT': 3, 'TATTAA': 3, 'TGGTAG': 3, 'GGTAGG': 3, 'GTAGGT': 3, 'TAGGTT': 3, 'AGGTTT': 3, 'GGTGGT': 3, 'GTGGTA': 3, 'AATTGA': 3, 'AAACCT': 4, 'AACCTA': 3, 'ACCTAC': 5, 'CCTACC': 5, 'CTACCA': 5, 'TACCAC': 6, 'ACCACC': 4, 'ACTTAC': 3, 'CTTACC': 3}\n"
          ],
          "name": "stdout"
        }
      ]
    },
    {
      "metadata": {
        "id": "CuyR4ewfwJ9t",
        "colab_type": "code",
        "outputId": "937c7634-74bf-49f4-98f4-f3d4b9e1053c",
        "colab": {
          "base_uri": "https://localhost:8080/",
          "height": 336
        }
      },
      "cell_type": "code",
      "source": [
        "def clump_finding(text, ksize, Len, times):\n",
        "  text = text.upper()\n",
        "  chunks = len(text)\n",
        "  clumps = [text[i:i+Len] for i in range(0, chunks, Len)]\n",
        "  patterns = {frequent_words2(text, ksize, times) for c in clumps}\n",
        "  return patterns\n",
        "\n",
        "text = \"aactctatacctcctttttgtcgaatttgtgtgatttatagagaaaatcttattaactgaaactaaaatggtaggtttggtggtaggttttgtgtacattttgtagtatctgatttttaattacataccgtatattgtattaaattgacgaacaattgcatggaattgaatatatgcaaaacaaacctaccaccaaactctgtattgaccattttaggacaacttcagggtggtaggtttctgaagctctcatcaatagactattttagtctttacaaacaatattaccgttcagattcaagattctacaacgctgttttaatgggcgttgcagaaaacttaccacctaaaatccagtatccaagccgatttcagagaaacctaccacttacctaccacttacctaccacccgggtggtaagttgcagacattattaaaaacctcatcagaagcttgttcaaaaatttcaatactcgaaacctaccacctgcgtcccctattatttactactactaataatagcagtataattgatctga\"\n",
        "k = 9\n",
        "\n",
        "clump_finding(text, 3, 100, 4)\n"
      ],
      "execution_count": 0,
      "outputs": [
        {
          "output_type": "stream",
          "text": [
            "The max frequent 3-mers ith 4 or more number of repeats is {'AAC': 14, 'ACT': 13, 'CTC': 7, 'TCT': 9, 'CTA': 14, 'TAT': 17, 'ATA': 12, 'TAC': 19, 'ACC': 20, 'CCT': 11, 'TCC': 4, 'CTT': 8, 'TTT': 24, 'TTG': 14, 'TGT': 10, 'CGA': 4, 'GAA': 11, 'AAT': 17, 'ATT': 24, 'GTG': 6, 'TGA': 9, 'GAT': 6, 'TTA': 18, 'TAG': 9, 'AGA': 10, 'AAA': 23, 'ATC': 7, 'TAA': 11, 'CTG': 7, 'ATG': 4, 'TGG': 7, 'GGT': 10, 'GTA': 12, 'AGG': 5, 'GTT': 8, 'ACA': 9, 'CAT': 7, 'AGT': 5, 'CCG': 4, 'CGT': 4, 'GAC': 5, 'CAA': 13, 'TGC': 5, 'GCA': 5, 'CCA': 10, 'CAC': 6, 'TTC': 8, 'TCA': 10, 'CAG': 8, 'AAG': 5, 'AGC': 4}\n",
            "The max frequent 3-mers ith 4 or more number of repeats is {'AAC': 14, 'ACT': 13, 'CTC': 7, 'TCT': 9, 'CTA': 14, 'TAT': 17, 'ATA': 12, 'TAC': 19, 'ACC': 20, 'CCT': 11, 'TCC': 4, 'CTT': 8, 'TTT': 24, 'TTG': 14, 'TGT': 10, 'CGA': 4, 'GAA': 11, 'AAT': 17, 'ATT': 24, 'GTG': 6, 'TGA': 9, 'GAT': 6, 'TTA': 18, 'TAG': 9, 'AGA': 10, 'AAA': 23, 'ATC': 7, 'TAA': 11, 'CTG': 7, 'ATG': 4, 'TGG': 7, 'GGT': 10, 'GTA': 12, 'AGG': 5, 'GTT': 8, 'ACA': 9, 'CAT': 7, 'AGT': 5, 'CCG': 4, 'CGT': 4, 'GAC': 5, 'CAA': 13, 'TGC': 5, 'GCA': 5, 'CCA': 10, 'CAC': 6, 'TTC': 8, 'TCA': 10, 'CAG': 8, 'AAG': 5, 'AGC': 4}\n",
            "The max frequent 3-mers ith 4 or more number of repeats is {'AAC': 14, 'ACT': 13, 'CTC': 7, 'TCT': 9, 'CTA': 14, 'TAT': 17, 'ATA': 12, 'TAC': 19, 'ACC': 20, 'CCT': 11, 'TCC': 4, 'CTT': 8, 'TTT': 24, 'TTG': 14, 'TGT': 10, 'CGA': 4, 'GAA': 11, 'AAT': 17, 'ATT': 24, 'GTG': 6, 'TGA': 9, 'GAT': 6, 'TTA': 18, 'TAG': 9, 'AGA': 10, 'AAA': 23, 'ATC': 7, 'TAA': 11, 'CTG': 7, 'ATG': 4, 'TGG': 7, 'GGT': 10, 'GTA': 12, 'AGG': 5, 'GTT': 8, 'ACA': 9, 'CAT': 7, 'AGT': 5, 'CCG': 4, 'CGT': 4, 'GAC': 5, 'CAA': 13, 'TGC': 5, 'GCA': 5, 'CCA': 10, 'CAC': 6, 'TTC': 8, 'TCA': 10, 'CAG': 8, 'AAG': 5, 'AGC': 4}\n",
            "The max frequent 3-mers ith 4 or more number of repeats is {'AAC': 14, 'ACT': 13, 'CTC': 7, 'TCT': 9, 'CTA': 14, 'TAT': 17, 'ATA': 12, 'TAC': 19, 'ACC': 20, 'CCT': 11, 'TCC': 4, 'CTT': 8, 'TTT': 24, 'TTG': 14, 'TGT': 10, 'CGA': 4, 'GAA': 11, 'AAT': 17, 'ATT': 24, 'GTG': 6, 'TGA': 9, 'GAT': 6, 'TTA': 18, 'TAG': 9, 'AGA': 10, 'AAA': 23, 'ATC': 7, 'TAA': 11, 'CTG': 7, 'ATG': 4, 'TGG': 7, 'GGT': 10, 'GTA': 12, 'AGG': 5, 'GTT': 8, 'ACA': 9, 'CAT': 7, 'AGT': 5, 'CCG': 4, 'CGT': 4, 'GAC': 5, 'CAA': 13, 'TGC': 5, 'GCA': 5, 'CCA': 10, 'CAC': 6, 'TTC': 8, 'TCA': 10, 'CAG': 8, 'AAG': 5, 'AGC': 4}\n",
            "The max frequent 3-mers ith 4 or more number of repeats is {'AAC': 14, 'ACT': 13, 'CTC': 7, 'TCT': 9, 'CTA': 14, 'TAT': 17, 'ATA': 12, 'TAC': 19, 'ACC': 20, 'CCT': 11, 'TCC': 4, 'CTT': 8, 'TTT': 24, 'TTG': 14, 'TGT': 10, 'CGA': 4, 'GAA': 11, 'AAT': 17, 'ATT': 24, 'GTG': 6, 'TGA': 9, 'GAT': 6, 'TTA': 18, 'TAG': 9, 'AGA': 10, 'AAA': 23, 'ATC': 7, 'TAA': 11, 'CTG': 7, 'ATG': 4, 'TGG': 7, 'GGT': 10, 'GTA': 12, 'AGG': 5, 'GTT': 8, 'ACA': 9, 'CAT': 7, 'AGT': 5, 'CCG': 4, 'CGT': 4, 'GAC': 5, 'CAA': 13, 'TGC': 5, 'GCA': 5, 'CCA': 10, 'CAC': 6, 'TTC': 8, 'TCA': 10, 'CAG': 8, 'AAG': 5, 'AGC': 4}\n",
            "The max frequent 3-mers ith 4 or more number of repeats is {'AAC': 14, 'ACT': 13, 'CTC': 7, 'TCT': 9, 'CTA': 14, 'TAT': 17, 'ATA': 12, 'TAC': 19, 'ACC': 20, 'CCT': 11, 'TCC': 4, 'CTT': 8, 'TTT': 24, 'TTG': 14, 'TGT': 10, 'CGA': 4, 'GAA': 11, 'AAT': 17, 'ATT': 24, 'GTG': 6, 'TGA': 9, 'GAT': 6, 'TTA': 18, 'TAG': 9, 'AGA': 10, 'AAA': 23, 'ATC': 7, 'TAA': 11, 'CTG': 7, 'ATG': 4, 'TGG': 7, 'GGT': 10, 'GTA': 12, 'AGG': 5, 'GTT': 8, 'ACA': 9, 'CAT': 7, 'AGT': 5, 'CCG': 4, 'CGT': 4, 'GAC': 5, 'CAA': 13, 'TGC': 5, 'GCA': 5, 'CCA': 10, 'CAC': 6, 'TTC': 8, 'TCA': 10, 'CAG': 8, 'AAG': 5, 'AGC': 4}\n"
          ],
          "name": "stdout"
        },
        {
          "output_type": "error",
          "ename": "NameError",
          "evalue": "ignored",
          "traceback": [
            "\u001b[0;31m---------------------------------------------------------------------------\u001b[0m",
            "\u001b[0;31mNameError\u001b[0m                                 Traceback (most recent call last)",
            "\u001b[0;32m<ipython-input-37-2c22730d796a>\u001b[0m in \u001b[0;36m<module>\u001b[0;34m()\u001b[0m\n\u001b[1;32m     10\u001b[0m \u001b[0;34m\u001b[0m\u001b[0m\n\u001b[1;32m     11\u001b[0m \u001b[0mclump_finding\u001b[0m\u001b[0;34m(\u001b[0m\u001b[0mtext\u001b[0m\u001b[0;34m,\u001b[0m \u001b[0;36m3\u001b[0m\u001b[0;34m,\u001b[0m \u001b[0;36m100\u001b[0m\u001b[0;34m,\u001b[0m \u001b[0;36m4\u001b[0m\u001b[0;34m)\u001b[0m\u001b[0;34m\u001b[0m\u001b[0;34m\u001b[0m\u001b[0m\n\u001b[0;32m---> 12\u001b[0;31m \u001b[0mprint\u001b[0m\u001b[0;34m(\u001b[0m\u001b[0mpatterns\u001b[0m\u001b[0;34m)\u001b[0m\u001b[0;34m\u001b[0m\u001b[0;34m\u001b[0m\u001b[0m\n\u001b[0m",
            "\u001b[0;31mNameError\u001b[0m: name 'patterns' is not defined"
          ]
        }
      ]
    },
    {
      "metadata": {
        "id": "CXUJPrineN-z",
        "colab_type": "code",
        "outputId": "6c5250c6-ca03-4be6-a17d-57d66a83fd0d",
        "colab": {
          "base_uri": "https://localhost:8080/",
          "height": 90
        }
      },
      "cell_type": "code",
      "source": [
        "def clump_finding(text, ksize, Len, times):\n",
        "  '''Find patterns forming (L,t)-clumps in a string (text) such way that \n",
        "  there is an interval of L length in which this k-mer appears at least t times'''\n",
        "  text = text.upper()\n",
        "  chunks = len(text)\n",
        "  clumps = [text[i:i+Len] for i in range(0, chunks, Len) ]\n",
        "  for c in clumps:\n",
        "    if len(c) < Len:\n",
        "      break\n",
        "    else:\n",
        "      freq_patterns = {}\n",
        "      keys = []\n",
        "      values = []\n",
        "      for i in range(0, len(c)-ksize+1):\n",
        "        pattern =  text[i:i+ksize]\n",
        "        if pattern in freq_patterns:\n",
        "          freq_patterns[pattern] += 1\n",
        "        else:\n",
        "          freq_patterns[pattern] = 1\n",
        "      dict = {k : v for k,v in freq_patterns.items() if v >= times}\n",
        "      print(f\"For interval there are {ksize}-mers: {dict.keys()} that forming ({Len,times})-clumps {dict}\")\n",
        "\n",
        "text = \"aactctatacctcctttttgtcgaatttgtgtgatttatagagaaaatcttattaactgaaactaaaatggtaggtttggtggtaggttttgtgtacattttgtagtatctgatttttaattacataccgtatattgtattaaattgacgaacaattgcatggaattgaatatatgcaaaacaaacctaccaccaaactctgtattgaccattttaggacaacttcagggtggtaggtttctgaagctctcatcaatagactattttagtctttacaaacaatattaccgttcagattcaagattctacaacgctgttttaatgggcgttgcagaaaacttaccacctaaaatccagtatccaagccgatttcagagaaacctaccacttacctaccacttacctaccacccgggtggtaagttgcagacattattaaaaacctcatcagaagcttgttcaaaaatttcaatactcgaaacctaccacctgcgtcccctattatttactactactaataatagcagtataattgatctga\"\n",
        "k = 9\n",
        "\n",
        "clump_finding(text, 9, 127,3)\n",
        "  "
      ],
      "execution_count": 0,
      "outputs": [
        {
          "output_type": "stream",
          "text": [
            "For interval there are 9-mers: dict_keys([]) that forming ((127, 3))-clumps {}\n",
            "For interval there are 9-mers: dict_keys([]) that forming ((127, 3))-clumps {}\n",
            "For interval there are 9-mers: dict_keys([]) that forming ((127, 3))-clumps {}\n",
            "For interval there are 9-mers: dict_keys([]) that forming ((127, 3))-clumps {}\n"
          ],
          "name": "stdout"
        }
      ]
    },
    {
      "metadata": {
        "id": "AN07Nyfrp7gq",
        "colab_type": "code",
        "outputId": "0d5030b9-ce48-426f-b6b8-938f5d76660c",
        "colab": {
          "base_uri": "https://localhost:8080/",
          "height": 74
        }
      },
      "cell_type": "code",
      "source": [
        "text = \"aactctatacctcctttttgtcgaatttgtgtgatttatagagaaaatcttattaactgaaactaaaatggtaggtttggtggtaggttttgtgtacattttgtagtatctgatttttaattacataccgtatattgtattaaattgacgaacaattgcatggaattgaatatatgcaaaacaaacctaccaccaaactctgtattgaccattttaggacaacttcagggtggtaggtttctgaagctctcatcaatagactattttagtctttacaaacaatattaccgttcagattcaagattctacaacgctgttttaatgggcgttgcagaaaacttaccacctaaaatccagtatccaagccgatttcagagaaacctaccacttacctaccacttacctaccacccgggtggtaagttgcagacattattaaaaacctcatcagaagcttgttcaaaaatttcaatactcgaaacctaccacctgcgtcccctattatttactactactaataatagcagtataattgatctga\"\n",
        "Len = 90\n",
        "chunks, chunk_size = len(text), len(text)//Len\n",
        "clumps = [text[i:i+Len] for i in range(0, chunks, Len) ]\n",
        "print(clumps)\n",
        "\n",
        "len(text)//Len"
      ],
      "execution_count": 0,
      "outputs": [
        {
          "output_type": "stream",
          "text": [
            "['aactctatacctcctttttgtcgaatttgtgtgatttatagagaaaatcttattaactgaaactaaaatggtaggtttggtggtaggttt', 'tgtgtacattttgtagtatctgatttttaattacataccgtatattgtattaaattgacgaacaattgcatggaattgaatatatgcaaa', 'acaaacctaccaccaaactctgtattgaccattttaggacaacttcagggtggtaggtttctgaagctctcatcaatagactattttagt', 'ctttacaaacaatattaccgttcagattcaagattctacaacgctgttttaatgggcgttgcagaaaacttaccacctaaaatccagtat', 'ccaagccgatttcagagaaacctaccacttacctaccacttacctaccacccgggtggtaagttgcagacattattaaaaacctcatcag', 'aagcttgttcaaaaatttcaatactcgaaacctaccacctgcgtcccctattatttactactactaataatagcagtataattgatctga']\n"
          ],
          "name": "stdout"
        },
        {
          "output_type": "execute_result",
          "data": {
            "text/plain": [
              "6"
            ]
          },
          "metadata": {
            "tags": []
          },
          "execution_count": 21
        }
      ]
    },
    {
      "metadata": {
        "id": "YwDyNI1Sng9p",
        "colab_type": "code",
        "outputId": "f422064e-686b-4e60-95b4-66e1a48f8905",
        "colab": {
          "base_uri": "https://localhost:8080/",
          "height": 74
        }
      },
      "cell_type": "code",
      "source": [
        "def minimum_skew(seq):\n",
        "  seq = seq.upper()\n",
        "  x = 0\n",
        "  y = []\n",
        "  for i in range(len(seq)):\n",
        "    if seq[i] == \"G\":\n",
        "      x = x + 1\n",
        "      y.append(x)\n",
        "    elif seq[i] ==\"C\":\n",
        "      x = x - 1\n",
        "      y.append(x)\n",
        "    else:\n",
        "      y.append(x)\n",
        "  return y\n",
        "\n",
        "\n",
        "def minimum_skew_gen(seq):\n",
        "  seq = seq.upper()\n",
        "  x = 0\n",
        "  for i in range(len(seq)):\n",
        "    if seq[i] == \"G\":\n",
        "      x = x + 1\n",
        "    elif seq[i] ==\"C\":\n",
        "      x = x - 1\n",
        "    else:\n",
        "      x = x\n",
        "    yield x\n",
        "\n",
        "\n",
        "\n",
        "text = \"aactctatacctcctttttgtcgaatttgtgtgatttatagagaaaatcttattaactgaaactaaaatggtaggtttggtggtaggttttgtgtacattttgtagtatctgatttttaattacataccgtatattgtattaaattgacgaacaattgcatggaattgaatatatgcaaaacaaacctaccaccaaactctgtattgaccattttaggacaacttcagggtggtaggtttctgaagctctcatcaatagactattttagtctttacaaacaatattaccgttcagattcaagattctacaacgctgttttaatgggcgttgcagaaaacttaccacctaaaatccagtatccaagccgatttcagagaaacctaccacttacctaccacttacctaccacccgggtggtaagttgcagacattattaaaaacctcatcagaagcttgttcaaaaatttcaatactcgaaacctaccacctgcgtcccctattatttactactactaataatagcagtataattgatctga\"\n",
        "t1 = minimum_skew(text)\n",
        "t2 = minimum_skew_gen(text)\n",
        "\n",
        "print(t1)\n",
        "print(list(t2))\n",
        "    "
      ],
      "execution_count": 0,
      "outputs": [
        {
          "output_type": "stream",
          "text": [
            "[0, 0, -1, -1, -2, -2, -2, -2, -2, -3, -4, -4, -5, -6, -6, -6, -6, -6, -6, -5, -5, -6, -5, -5, -5, -5, -5, -5, -4, -4, -3, -3, -2, -2, -2, -2, -2, -2, -2, -2, -1, -1, 0, 0, 0, 0, 0, 0, -1, -1, -1, -1, -1, -1, -1, -1, -2, -2, -1, -1, -1, -1, -2, -2, -2, -2, -2, -2, -2, -1, 0, 0, 0, 1, 2, 2, 2, 2, 3, 4, 4, 5, 6, 6, 6, 7, 8, 8, 8, 8, 8, 9, 9, 10, 10, 10, 9, 9, 9, 9, 9, 9, 10, 10, 10, 11, 11, 11, 11, 10, 10, 11, 11, 11, 11, 11, 11, 11, 11, 11, 11, 11, 11, 10, 10, 10, 10, 9, 8, 9, 9, 9, 9, 9, 9, 9, 10, 10, 10, 10, 10, 10, 10, 10, 10, 10, 11, 11, 10, 11, 11, 11, 10, 10, 10, 10, 10, 11, 10, 10, 10, 11, 12, 12, 12, 12, 12, 13, 13, 13, 13, 13, 13, 13, 13, 14, 13, 13, 13, 13, 13, 12, 12, 12, 12, 11, 10, 10, 10, 9, 8, 8, 7, 6, 6, 6, 6, 5, 5, 4, 4, 5, 5, 5, 5, 5, 6, 6, 5, 4, 4, 4, 4, 4, 4, 4, 5, 6, 6, 5, 5, 5, 4, 4, 4, 3, 3, 4, 5, 6, 6, 7, 8, 8, 8, 9, 10, 10, 10, 10, 9, 9, 10, 10, 10, 11, 10, 10, 9, 9, 8, 8, 8, 7, 7, 7, 7, 7, 8, 8, 7, 7, 7, 7, 7, 7, 7, 7, 8, 8, 7, 7, 7, 7, 7, 6, 6, 6, 6, 5, 5, 5, 5, 5, 5, 5, 5, 4, 3, 4, 4, 4, 3, 3, 4, 4, 4, 4, 3, 3, 3, 4, 4, 4, 4, 3, 3, 3, 2, 2, 2, 1, 2, 1, 1, 2, 2, 2, 2, 2, 2, 2, 2, 3, 4, 5, 4, 5, 5, 5, 6, 5, 5, 6, 6, 6, 6, 6, 5, 5, 5, 5, 4, 3, 3, 2, 1, 1, 1, 1, 1, 1, 1, 0, -1, -1, 0, 0, 0, 0, -1, -2, -2, -2, -1, -2, -3, -2, -2, -2, -2, -2, -3, -3, -2, -2, -1, -1, -1, -1, -2, -3, -3, -3, -4, -5, -5, -6, -6, -6, -6, -7, -8, -8, -8, -9, -10, -10, -11, -11, -11, -11, -12, -13, -13, -13, -14, -15, -15, -16, -17, -18, -17, -16, -15, -15, -14, -13, -13, -13, -13, -12, -12, -12, -11, -12, -12, -11, -11, -12, -12, -12, -12, -12, -12, -12, -12, -12, -12, -12, -12, -13, -14, -14, -15, -15, -15, -16, -16, -15, -15, -15, -14, -15, -15, -15, -14, -14, -14, -15, -15, -15, -15, -15, -15, -15, -15, -15, -16, -16, -16, -16, -16, -17, -17, -18, -17, -17, -17, -17, -18, -19, -19, -19, -20, -21, -21, -22, -23, -23, -22, -23, -22, -22, -23, -24, -25, -26, -26, -26, -26, -26, -26, -26, -26, -26, -26, -27, -27, -27, -28, -28, -28, -29, -29, -29, -29, -29, -29, -29, -29, -29, -28, -29, -29, -28, -28, -28, -28, -28, -28, -28, -28, -27, -27, -27, -28, -28, -27, -27]\n",
            "[0, 0, -1, -1, -2, -2, -2, -2, -2, -3, -4, -4, -5, -6, -6, -6, -6, -6, -6, -5, -5, -6, -5, -5, -5, -5, -5, -5, -4, -4, -3, -3, -2, -2, -2, -2, -2, -2, -2, -2, -1, -1, 0, 0, 0, 0, 0, 0, -1, -1, -1, -1, -1, -1, -1, -1, -2, -2, -1, -1, -1, -1, -2, -2, -2, -2, -2, -2, -2, -1, 0, 0, 0, 1, 2, 2, 2, 2, 3, 4, 4, 5, 6, 6, 6, 7, 8, 8, 8, 8, 8, 9, 9, 10, 10, 10, 9, 9, 9, 9, 9, 9, 10, 10, 10, 11, 11, 11, 11, 10, 10, 11, 11, 11, 11, 11, 11, 11, 11, 11, 11, 11, 11, 10, 10, 10, 10, 9, 8, 9, 9, 9, 9, 9, 9, 9, 10, 10, 10, 10, 10, 10, 10, 10, 10, 10, 11, 11, 10, 11, 11, 11, 10, 10, 10, 10, 10, 11, 10, 10, 10, 11, 12, 12, 12, 12, 12, 13, 13, 13, 13, 13, 13, 13, 13, 14, 13, 13, 13, 13, 13, 12, 12, 12, 12, 11, 10, 10, 10, 9, 8, 8, 7, 6, 6, 6, 6, 5, 5, 4, 4, 5, 5, 5, 5, 5, 6, 6, 5, 4, 4, 4, 4, 4, 4, 4, 5, 6, 6, 5, 5, 5, 4, 4, 4, 3, 3, 4, 5, 6, 6, 7, 8, 8, 8, 9, 10, 10, 10, 10, 9, 9, 10, 10, 10, 11, 10, 10, 9, 9, 8, 8, 8, 7, 7, 7, 7, 7, 8, 8, 7, 7, 7, 7, 7, 7, 7, 7, 8, 8, 7, 7, 7, 7, 7, 6, 6, 6, 6, 5, 5, 5, 5, 5, 5, 5, 5, 4, 3, 4, 4, 4, 3, 3, 4, 4, 4, 4, 3, 3, 3, 4, 4, 4, 4, 3, 3, 3, 2, 2, 2, 1, 2, 1, 1, 2, 2, 2, 2, 2, 2, 2, 2, 3, 4, 5, 4, 5, 5, 5, 6, 5, 5, 6, 6, 6, 6, 6, 5, 5, 5, 5, 4, 3, 3, 2, 1, 1, 1, 1, 1, 1, 1, 0, -1, -1, 0, 0, 0, 0, -1, -2, -2, -2, -1, -2, -3, -2, -2, -2, -2, -2, -3, -3, -2, -2, -1, -1, -1, -1, -2, -3, -3, -3, -4, -5, -5, -6, -6, -6, -6, -7, -8, -8, -8, -9, -10, -10, -11, -11, -11, -11, -12, -13, -13, -13, -14, -15, -15, -16, -17, -18, -17, -16, -15, -15, -14, -13, -13, -13, -13, -12, -12, -12, -11, -12, -12, -11, -11, -12, -12, -12, -12, -12, -12, -12, -12, -12, -12, -12, -12, -13, -14, -14, -15, -15, -15, -16, -16, -15, -15, -15, -14, -15, -15, -15, -14, -14, -14, -15, -15, -15, -15, -15, -15, -15, -15, -15, -16, -16, -16, -16, -16, -17, -17, -18, -17, -17, -17, -17, -18, -19, -19, -19, -20, -21, -21, -22, -23, -23, -22, -23, -22, -22, -23, -24, -25, -26, -26, -26, -26, -26, -26, -26, -26, -26, -26, -27, -27, -27, -28, -28, -28, -29, -29, -29, -29, -29, -29, -29, -29, -29, -28, -29, -29, -28, -28, -28, -28, -28, -28, -28, -28, -27, -27, -27, -28, -28, -27, -27]\n"
          ],
          "name": "stdout"
        }
      ]
    },
    {
      "metadata": {
        "id": "6-3AZOv9Bi_0",
        "colab_type": "code",
        "outputId": "ed67feb2-20be-42eb-ec7b-a94955fad9d2",
        "colab": {
          "base_uri": "https://localhost:8080/",
          "height": 335
        }
      },
      "cell_type": "code",
      "source": [
        "def hamming_distance(seq1, seq2):\n",
        "  '''Finding Hamming distance between two sequences'''\n",
        "  assert len(seq1) == len(seq2), \"Two sequences not the same length!\"\n",
        "  mismatches = 0\n",
        "  for i in range(len(seq1)):\n",
        "    if seq1[i] == seq2[i]:\n",
        "      continue\n",
        "    else:\n",
        "      mismatches = mismatches +1\n",
        "  print(f'Between two sequences the Hamming distance is {mismatches}')\n",
        "  \n",
        "seq1 = 'AATTGGTTGG'\n",
        "seq2 = 'AATTAATTGC'\n",
        "\n",
        "hamming_distance(seq1, seq2)"
      ],
      "execution_count": 0,
      "outputs": [
        {
          "output_type": "error",
          "ename": "AssertionError",
          "evalue": "ignored",
          "traceback": [
            "\u001b[0;31m---------------------------------------------------------------------------\u001b[0m",
            "\u001b[0;31mAssertionError\u001b[0m                            Traceback (most recent call last)",
            "\u001b[0;32m<ipython-input-9-c2270e386c94>\u001b[0m in \u001b[0;36m<module>\u001b[0;34m()\u001b[0m\n\u001b[1;32m     13\u001b[0m \u001b[0mseq2\u001b[0m \u001b[0;34m=\u001b[0m \u001b[0;34m'AATTAATTGCC'\u001b[0m\u001b[0;34m\u001b[0m\u001b[0;34m\u001b[0m\u001b[0m\n\u001b[1;32m     14\u001b[0m \u001b[0;34m\u001b[0m\u001b[0m\n\u001b[0;32m---> 15\u001b[0;31m \u001b[0mhamming_distance\u001b[0m\u001b[0;34m(\u001b[0m\u001b[0mseq1\u001b[0m\u001b[0;34m,\u001b[0m \u001b[0mseq2\u001b[0m\u001b[0;34m)\u001b[0m\u001b[0;34m\u001b[0m\u001b[0;34m\u001b[0m\u001b[0m\n\u001b[0m",
            "\u001b[0;32m<ipython-input-9-c2270e386c94>\u001b[0m in \u001b[0;36mhamming_distance\u001b[0;34m(seq1, seq2)\u001b[0m\n\u001b[1;32m      1\u001b[0m \u001b[0;32mdef\u001b[0m \u001b[0mhamming_distance\u001b[0m\u001b[0;34m(\u001b[0m\u001b[0mseq1\u001b[0m\u001b[0;34m,\u001b[0m \u001b[0mseq2\u001b[0m\u001b[0;34m)\u001b[0m\u001b[0;34m:\u001b[0m\u001b[0;34m\u001b[0m\u001b[0;34m\u001b[0m\u001b[0m\n\u001b[1;32m      2\u001b[0m   \u001b[0;34m'''Finding Hamming distance between two sequences'''\u001b[0m\u001b[0;34m\u001b[0m\u001b[0;34m\u001b[0m\u001b[0m\n\u001b[0;32m----> 3\u001b[0;31m   \u001b[0;32massert\u001b[0m \u001b[0mlen\u001b[0m\u001b[0;34m(\u001b[0m\u001b[0mseq1\u001b[0m\u001b[0;34m)\u001b[0m \u001b[0;34m==\u001b[0m \u001b[0mlen\u001b[0m\u001b[0;34m(\u001b[0m\u001b[0mseq2\u001b[0m\u001b[0;34m)\u001b[0m\u001b[0;34m,\u001b[0m \u001b[0;34m\"Two sequences not the same length!\"\u001b[0m\u001b[0;34m\u001b[0m\u001b[0;34m\u001b[0m\u001b[0m\n\u001b[0m\u001b[1;32m      4\u001b[0m   \u001b[0mmismatches\u001b[0m \u001b[0;34m=\u001b[0m \u001b[0;36m0\u001b[0m\u001b[0;34m\u001b[0m\u001b[0;34m\u001b[0m\u001b[0m\n\u001b[1;32m      5\u001b[0m   \u001b[0;32mfor\u001b[0m \u001b[0mi\u001b[0m \u001b[0;32min\u001b[0m \u001b[0mrange\u001b[0m\u001b[0;34m(\u001b[0m\u001b[0mlen\u001b[0m\u001b[0;34m(\u001b[0m\u001b[0mseq1\u001b[0m\u001b[0;34m)\u001b[0m\u001b[0;34m)\u001b[0m\u001b[0;34m:\u001b[0m\u001b[0;34m\u001b[0m\u001b[0;34m\u001b[0m\u001b[0m\n",
            "\u001b[0;31mAssertionError\u001b[0m: Two sequences not the same length!"
          ]
        }
      ]
    },
    {
      "metadata": {
        "id": "J7F3i8wEE83u",
        "colab_type": "code",
        "outputId": "2984da40-8312-4901-ecf5-d5b15896aa20",
        "colab": {
          "base_uri": "https://localhost:8080/",
          "height": 35
        }
      },
      "cell_type": "code",
      "source": [
        "len(seq1) == len(seq2)"
      ],
      "execution_count": 0,
      "outputs": [
        {
          "output_type": "execute_result",
          "data": {
            "text/plain": [
              "True"
            ]
          },
          "metadata": {
            "tags": []
          },
          "execution_count": 2
        }
      ]
    },
    {
      "metadata": {
        "id": "EHz1ZUsNGhi4",
        "colab_type": "code",
        "outputId": "3145d44f-fbc1-4fe9-a86e-2d22fcbfcc07",
        "colab": {
          "base_uri": "https://localhost:8080/",
          "height": 335
        }
      },
      "cell_type": "code",
      "source": [
        "def approximate_pattern_matching(text, pattern, d):\n",
        "  '''Find all approximate occurrences of a pattern in a string'''\n",
        "  positions = []\n",
        "  count = 0\n",
        "  for i in range(0,(len(text)-len(pattern) + 1)):\n",
        "    for j in range(i,len(pattern)+1):\n",
        "      if text[j] != pattern[j]:\n",
        "        count += 1\n",
        "        if count <= d:\n",
        "          positions.append(i)\n",
        "  return positions\n",
        "  \n",
        "  \n",
        "def pattern_count(text, pattern):\n",
        "  '''Finding pattern counts in text using k-mer sliding window'''\n",
        "  count = 0\n",
        "  for i in range(0,(len(text)-len(pattern) + 1)):\n",
        "    if text[i: i + len(pattern)] == pattern:\n",
        "      count = count + 1\n",
        "  return count\n",
        "  \n",
        "  \n",
        "  \n",
        "  \n",
        "  \n",
        "  \n",
        "  \n",
        "  \n",
        "  \n",
        "  \n",
        "  \n",
        "seq1 ='AATTGGTTGG'\n",
        "seq2 ='AAG'\n",
        "\n",
        "approximate_pattern_matching(seq1, seq2, 1)  "
      ],
      "execution_count": 0,
      "outputs": [
        {
          "output_type": "error",
          "ename": "IndexError",
          "evalue": "ignored",
          "traceback": [
            "\u001b[0;31m---------------------------------------------------------------------------\u001b[0m",
            "\u001b[0;31mIndexError\u001b[0m                                Traceback (most recent call last)",
            "\u001b[0;32m<ipython-input-25-0a4d14c95ecf>\u001b[0m in \u001b[0;36m<module>\u001b[0;34m()\u001b[0m\n\u001b[1;32m     33\u001b[0m \u001b[0mseq2\u001b[0m \u001b[0;34m=\u001b[0m\u001b[0;34m'AAG'\u001b[0m\u001b[0;34m\u001b[0m\u001b[0;34m\u001b[0m\u001b[0m\n\u001b[1;32m     34\u001b[0m \u001b[0;34m\u001b[0m\u001b[0m\n\u001b[0;32m---> 35\u001b[0;31m \u001b[0mapproximate_pattern_matching\u001b[0m\u001b[0;34m(\u001b[0m\u001b[0mseq1\u001b[0m\u001b[0;34m,\u001b[0m \u001b[0mseq2\u001b[0m\u001b[0;34m,\u001b[0m \u001b[0;36m1\u001b[0m\u001b[0;34m)\u001b[0m\u001b[0;34m\u001b[0m\u001b[0;34m\u001b[0m\u001b[0m\n\u001b[0m",
            "\u001b[0;32m<ipython-input-25-0a4d14c95ecf>\u001b[0m in \u001b[0;36mapproximate_pattern_matching\u001b[0;34m(text, pattern, d)\u001b[0m\n\u001b[1;32m      5\u001b[0m   \u001b[0;32mfor\u001b[0m \u001b[0mi\u001b[0m \u001b[0;32min\u001b[0m \u001b[0mrange\u001b[0m\u001b[0;34m(\u001b[0m\u001b[0;36m0\u001b[0m\u001b[0;34m,\u001b[0m\u001b[0;34m(\u001b[0m\u001b[0mlen\u001b[0m\u001b[0;34m(\u001b[0m\u001b[0mtext\u001b[0m\u001b[0;34m)\u001b[0m\u001b[0;34m-\u001b[0m\u001b[0mlen\u001b[0m\u001b[0;34m(\u001b[0m\u001b[0mpattern\u001b[0m\u001b[0;34m)\u001b[0m \u001b[0;34m+\u001b[0m \u001b[0;36m1\u001b[0m\u001b[0;34m)\u001b[0m\u001b[0;34m)\u001b[0m\u001b[0;34m:\u001b[0m\u001b[0;34m\u001b[0m\u001b[0;34m\u001b[0m\u001b[0m\n\u001b[1;32m      6\u001b[0m     \u001b[0;32mfor\u001b[0m \u001b[0mj\u001b[0m \u001b[0;32min\u001b[0m \u001b[0mrange\u001b[0m\u001b[0;34m(\u001b[0m\u001b[0mi\u001b[0m\u001b[0;34m,\u001b[0m\u001b[0mlen\u001b[0m\u001b[0;34m(\u001b[0m\u001b[0mpattern\u001b[0m\u001b[0;34m)\u001b[0m\u001b[0;34m+\u001b[0m\u001b[0;36m1\u001b[0m\u001b[0;34m)\u001b[0m\u001b[0;34m:\u001b[0m\u001b[0;34m\u001b[0m\u001b[0;34m\u001b[0m\u001b[0m\n\u001b[0;32m----> 7\u001b[0;31m       \u001b[0;32mif\u001b[0m \u001b[0mtext\u001b[0m\u001b[0;34m[\u001b[0m\u001b[0mj\u001b[0m\u001b[0;34m]\u001b[0m \u001b[0;34m!=\u001b[0m \u001b[0mpattern\u001b[0m\u001b[0;34m[\u001b[0m\u001b[0mj\u001b[0m\u001b[0;34m]\u001b[0m\u001b[0;34m:\u001b[0m\u001b[0;34m\u001b[0m\u001b[0;34m\u001b[0m\u001b[0m\n\u001b[0m\u001b[1;32m      8\u001b[0m         \u001b[0mcount\u001b[0m \u001b[0;34m+=\u001b[0m \u001b[0;36m1\u001b[0m\u001b[0;34m\u001b[0m\u001b[0;34m\u001b[0m\u001b[0m\n\u001b[1;32m      9\u001b[0m         \u001b[0;32mif\u001b[0m \u001b[0mcount\u001b[0m \u001b[0;34m<=\u001b[0m \u001b[0md\u001b[0m\u001b[0;34m:\u001b[0m\u001b[0;34m\u001b[0m\u001b[0;34m\u001b[0m\u001b[0m\n",
            "\u001b[0;31mIndexError\u001b[0m: string index out of range"
          ]
        }
      ]
    },
    {
      "metadata": {
        "id": "0-ZZAvWCHBq8",
        "colab_type": "code",
        "colab": {}
      },
      "cell_type": "code",
      "source": [
        ""
      ],
      "execution_count": 0,
      "outputs": []
    }
  ]
}